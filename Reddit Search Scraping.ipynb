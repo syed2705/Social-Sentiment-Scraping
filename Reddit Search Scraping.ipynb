{
 "cells": [
  {
   "cell_type": "code",
   "execution_count": null,
   "metadata": {},
   "outputs": [],
   "source": [
    "# Import the necessary libraries\n",
    "from bs4 import BeautifulSoup\n",
    "from selenium import webdriver\n",
    "import pandas as pd\n",
    "import time\n",
    "from datetime import datetime"
   ]
  },
  {
   "cell_type": "code",
   "execution_count": null,
   "metadata": {},
   "outputs": [],
   "source": [
    "# Objective: Scrape posts from a Reddit Search.\n",
    "\n",
    "# Running Selenium webdriver with target URL\n",
    "driver = webdriver.Chrome()\n",
    "driver.get('https://www.reddit.com/search/?q=gpt+store&type=link&cId=0319bff9-d7ff-451d-8b06-0fd060649b07&iId=d5d9a0d6-65bf-4715-8765-1353b0982e89')\n",
    "driver.set_page_load_timeout(10)"
   ]
  },
  {
   "cell_type": "code",
   "execution_count": null,
   "metadata": {},
   "outputs": [],
   "source": [
    "# Import page content. Make sure to scroll the page as much as needed before executing this command.\n",
    "page_content = driver.page_source"
   ]
  },
  {
   "cell_type": "code",
   "execution_count": null,
   "metadata": {},
   "outputs": [],
   "source": [
    "# Define a function that takes page content as input and outputs dataframe with scraped data.\n",
    "def scrape_reddit_search(page_content):\n",
    "    \n",
    "    # Parsing page content as BeautifulSoup object\n",
    "    soup = BeautifulSoup(page_content, 'html.parser')\n",
    "    \n",
    "    # Create a BeautifulSoup ResultSet with data for all the posts to be scraped\n",
    "    posts_raw = soup.find_all('div', class_='w-full flex flex-col items-start min-w-0')\n",
    "    \n",
    "    # Create an empty list which would be appended with all posts\n",
    "    posts = []\n",
    "    \n",
    "    # Iterate on the ResultSet to extract data for individual posts\n",
    "    for post in posts_raw:\n",
    "        post_data = {}\n",
    "        \n",
    "        # Using .get() method to safely access attributes and find() to handle None cases\n",
    "        \n",
    "        # Getting the Subreddit\n",
    "        subreddit_element = post.find('a', class_='flex items-center text-neutral-content-weak font-semibold')\n",
    "        if subreddit_element:\n",
    "            post_data['Subreddit'] = subreddit_element.text.strip() \n",
    "        else:\n",
    "            'N/A'\n",
    "            \n",
    "        # Getting the Text\n",
    "        text_element = post.find('a', class_='text-16 xs:text-18 line-clamp-3 text-ellipsis text-neutral-content-strong font-semibold mb-xs no-underline hover:no-underline visited:text-neutral-content-weak')\n",
    "        if text_element:\n",
    "            post_data['Text'] = text_element.text.strip() \n",
    "        else:\n",
    "            'N/A'\n",
    "            \n",
    "        # Getting timestamp\n",
    "        time_element = post.find('time')\n",
    "        if time_element:\n",
    "            post_data['Timestamp'] = time_element.text\n",
    "        else:\n",
    "            'N/A'\n",
    "            \n",
    "        # No. of Days Old\n",
    "        if time_element:\n",
    "            date_obj = datetime.strptime(time_element['datetime'].split('T')[0], '%Y-%m-%d').date()\n",
    "            post_data['Days Old'] = datetime.now().date() - date_obj\n",
    "        else:\n",
    "            'N/A'\n",
    "             \n",
    "        # Getting No. of Votes \n",
    "        vote_element = post.find('div', class_='text-neutral-content-weak text-12').find_all('faceplate-number')[0]\n",
    "        if vote_element:\n",
    "            post_data['No. of Votes'] = vote_element.text\n",
    "        else:\n",
    "            'N/A'\n",
    "            \n",
    "        # Getting No. of Comments\n",
    "        comment_element = post.find('div', class_='text-neutral-content-weak text-12').find_all('faceplate-number')[1]\n",
    "        if comment_element:\n",
    "            post_data['No. of Comments'] = comment_element.text\n",
    "        else:\n",
    "            'N/A'\n",
    "            \n",
    "        # Getting the URL\n",
    "        if text_element:\n",
    "            post_data['URL'] = 'https://www.reddit.com' + text_element['href']\n",
    "        else:\n",
    "            'N/A'\n",
    "        \n",
    "        # Appending the post_data dict to the list\n",
    "        posts.append(post_data)\n",
    "\n",
    "    # Create a DataFrame from the list of dictionaries after the loop\n",
    "    df = pd.DataFrame(posts)\n",
    "    return df"
   ]
  },
  {
   "cell_type": "code",
   "execution_count": null,
   "metadata": {},
   "outputs": [],
   "source": [
    "df = scrape_reddit_search(page_content)"
   ]
  },
  {
   "cell_type": "code",
   "execution_count": null,
   "metadata": {},
   "outputs": [],
   "source": [
    "driver.quit()"
   ]
  },
  {
   "cell_type": "code",
   "execution_count": null,
   "metadata": {},
   "outputs": [],
   "source": [
    "df = df.sort_values(by='Days Old', ascending=True)"
   ]
  },
  {
   "cell_type": "code",
   "execution_count": null,
   "metadata": {},
   "outputs": [],
   "source": [
    "df['No. of Comments'] = df['No. of Comments'].astype(int)"
   ]
  },
  {
   "cell_type": "code",
   "execution_count": null,
   "metadata": {},
   "outputs": [],
   "source": [
    "df[df['Days Old'] < pd.Timedelta(days=60)]['No. of Comments'].sum()"
   ]
  },
  {
   "cell_type": "code",
   "execution_count": null,
   "metadata": {},
   "outputs": [],
   "source": [
    "df = df[df['Days Old'] < pd.Timedelta(days=60)]"
   ]
  },
  {
   "cell_type": "code",
   "execution_count": null,
   "metadata": {},
   "outputs": [],
   "source": [
    "df = df.reset_index().drop(columns=['index'])"
   ]
  },
  {
   "cell_type": "code",
   "execution_count": null,
   "metadata": {},
   "outputs": [],
   "source": [
    "df = df[df['No. of Comments'] != 0]"
   ]
  },
  {
   "cell_type": "code",
   "execution_count": null,
   "metadata": {},
   "outputs": [],
   "source": [
    "df = df.sort_values(by='No. of Comments', ascending=False).reset_index()"
   ]
  },
  {
   "cell_type": "code",
   "execution_count": null,
   "metadata": {},
   "outputs": [],
   "source": [
    "df.drop(columns=['index'], inplace=True)"
   ]
  },
  {
   "cell_type": "code",
   "execution_count": null,
   "metadata": {},
   "outputs": [],
   "source": [
    "df = df[df['No. of Comments'] > 10]"
   ]
  },
  {
   "cell_type": "code",
   "execution_count": null,
   "metadata": {},
   "outputs": [],
   "source": [
    "def auto_scroll(driver):\n",
    "    last_height = driver.execute_script(\"return document.body.scrollHeight\")\n",
    "    while True:\n",
    "        driver.execute_script(\"window.scrollTo(0, document.body.scrollHeight);\")\n",
    "        time.sleep(5)  # Adjust sleep time as necessary\n",
    "        new_height = driver.execute_script(\"return document.body.scrollHeight\")\n",
    "        if new_height == last_height:\n",
    "            break\n",
    "        last_height = new_height"
   ]
  },
  {
   "cell_type": "code",
   "execution_count": null,
   "metadata": {},
   "outputs": [],
   "source": [
    "driver = webdriver.Chrome()"
   ]
  },
  {
   "cell_type": "code",
   "execution_count": null,
   "metadata": {},
   "outputs": [],
   "source": [
    "page_content = driver.page_source"
   ]
  },
  {
   "cell_type": "code",
   "execution_count": null,
   "metadata": {},
   "outputs": [],
   "source": [
    "urls = [i for i in df['URL']]"
   ]
  },
  {
   "cell_type": "code",
   "execution_count": null,
   "metadata": {},
   "outputs": [],
   "source": [
    "# Define a function that takes page content as input and outputs dataframe with scraped data.\n",
    "def scrape_post(page_content):\n",
    "    \n",
    "    # Parsing page content as BeautifulSoup object\n",
    "    soup = BeautifulSoup(page_content, 'html.parser')\n",
    "    \n",
    "    # Create a BeautifulSoup ResultSet with data for all the posts to be scraped\n",
    "    comments_raw = soup.find_all('shreddit-comment')\n",
    "    \n",
    "    # Filtering for top-level-comments only\n",
    "    comments_depth_0 = [comment for comment in comments_raw if comment['depth']=='0']\n",
    "    \n",
    "    # Create an empty list which would be appended with all comments\n",
    "    comments = []\n",
    "    \n",
    "    # Iterate on the ResultSet to extract data for individual posts\n",
    "    for comment in comments_depth_0:\n",
    "        comment_data = {}\n",
    "        \n",
    "        # Getting the author\n",
    "        author_element = comment.find('a', class_='truncate font-bold text-neutral-content-strong text-12 hover:underline')\n",
    "        if author_element:\n",
    "            comment_data['Author'] = author_element.text.strip()\n",
    "        else:\n",
    "            'N/A'\n",
    "        \n",
    "        # Getting the Text\n",
    "        text_element = comment.find('div', class_='md text-14 rounded-[8px] pb-2xs')\n",
    "        if text_element and text_element.find('p'):\n",
    "            comment_data['Text'] = text_element.text.strip()\n",
    "        else:\n",
    "            'N/A'\n",
    "                    \n",
    "        # Geting Timestamp\n",
    "        if comment.find('time'):\n",
    "            comment_data['Timestamp'] = comment.find('time')['datetime']\n",
    "        else:\n",
    "            'N/A'\n",
    "                    \n",
    "        # Getting score\n",
    "        try:\n",
    "            comment_data['Score'] = comment['score']\n",
    "        except Exception as e:\n",
    "            comment_data['Score'] = 'N/A'\n",
    "            \n",
    "        # Getting URL\n",
    "        try:\n",
    "            comment_data['URL'] = 'https://www.reddit.com' + comment['permalink']\n",
    "        except Exception as e:\n",
    "            comment_data['URL'] = 'N/A'\n",
    "            \n",
    "        # Appending the comment_data dict to the list\n",
    "        comments.append(comment_data)\n",
    "        \n",
    "    # Create a DataFrame from the list of dictionaries after the loop\n",
    "    df = pd.DataFrame(comments)\n",
    "    return df"
   ]
  },
  {
   "cell_type": "code",
   "execution_count": null,
   "metadata": {},
   "outputs": [],
   "source": [
    "df1 = scrape_post(page_content)"
   ]
  },
  {
   "cell_type": "code",
   "execution_count": null,
   "metadata": {},
   "outputs": [],
   "source": [
    "# Define a function that takes the dataframe and filename as input and writes an excel file to disk\n",
    "def write_to_disk(df, filename):\n",
    "    out_path = f'C:\\\\Users\\\\BINARY COMPUTERS\\\\Documents\\\\{filename}.xlsx'\n",
    "    writer = pd.ExcelWriter(out_path , engine='xlsxwriter')\n",
    "    df.to_excel(writer, sheet_name='Sheet1')\n",
    "    writer.save()\n",
    "    print(f\"Write Complete. You can access the file at {out_path}\")"
   ]
  },
  {
   "cell_type": "code",
   "execution_count": null,
   "metadata": {},
   "outputs": [],
   "source": [
    "write_to_disk(df1, 'DF URL 18')"
   ]
  },
  {
   "cell_type": "code",
   "execution_count": null,
   "metadata": {},
   "outputs": [],
   "source": [
    "for url in urls:\n",
    "    driver.get(url)\n",
    "    auto_scroll(driver)\n",
    "    page_content = driver.page_source\n",
    "    df = scrape_post(page_content)\n",
    "    filename = url.split('/')[6]\n",
    "    write_to_disk(df, filename)"
   ]
  },
  {
   "cell_type": "code",
   "execution_count": null,
   "metadata": {},
   "outputs": [],
   "source": [
    "driver.quit()"
   ]
  },
  {
   "cell_type": "code",
   "execution_count": null,
   "metadata": {},
   "outputs": [],
   "source": [
    "df['URL'] = 'https://www.reddit.com' + df['URL']"
   ]
  },
  {
   "cell_type": "code",
   "execution_count": null,
   "metadata": {},
   "outputs": [],
   "source": [
    "soup = BeautifulSoup(page_content, 'html.parser')"
   ]
  },
  {
   "cell_type": "code",
   "execution_count": null,
   "metadata": {},
   "outputs": [],
   "source": [
    "date_obj = datetime.strptime(soup.find('div', class_='w-full flex flex-col items-start min-w-0').find('time')['datetime'].split('T')[0], '%Y-%m-%d').date()"
   ]
  },
  {
   "cell_type": "code",
   "execution_count": null,
   "metadata": {},
   "outputs": [],
   "source": [
    "datetime.now().date() - date_obj"
   ]
  },
  {
   "cell_type": "code",
   "execution_count": null,
   "metadata": {},
   "outputs": [],
   "source": []
  }
 ],
 "metadata": {
  "kernelspec": {
   "display_name": "Python 3",
   "language": "python",
   "name": "python3"
  },
  "language_info": {
   "codemirror_mode": {
    "name": "ipython",
    "version": 3
   },
   "file_extension": ".py",
   "mimetype": "text/x-python",
   "name": "python",
   "nbconvert_exporter": "python",
   "pygments_lexer": "ipython3",
   "version": "3.8.5"
  }
 },
 "nbformat": 4,
 "nbformat_minor": 4
}
