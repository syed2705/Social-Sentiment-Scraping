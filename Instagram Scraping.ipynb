{
 "cells": [
  {
   "cell_type": "code",
   "execution_count": null,
   "metadata": {},
   "outputs": [],
   "source": [
    "import time\n",
    "import pandas as pd\n",
    "from bs4 import BeautifulSoup\n",
    "from selenium import webdriver"
   ]
  },
  {
   "cell_type": "code",
   "execution_count": null,
   "metadata": {},
   "outputs": [],
   "source": [
    "driver = webdriver.Chrome()"
   ]
  },
  {
   "cell_type": "code",
   "execution_count": null,
   "metadata": {},
   "outputs": [],
   "source": [
    "driver.get('https://www.instagram.com/p/C2B_Nn4yVwQ/')"
   ]
  },
  {
   "cell_type": "code",
   "execution_count": null,
   "metadata": {},
   "outputs": [],
   "source": [
    "page_content = driver.page_source"
   ]
  },
  {
   "cell_type": "code",
   "execution_count": null,
   "metadata": {},
   "outputs": [],
   "source": [
    "def scrape_comments(page_content):\n",
    "    soup = BeautifulSoup(page_content, 'html.parser')\n",
    "    comments_raw = soup.find_all('div', class_='x9f619 xjbqb8w x78zum5 x168nmei x13lgxp2 x5pf9jr xo71vjh xsag5q8 xz9dl7a x1uhb9sk x1plvlek xryxfnj x1c4vz4f x2lah0s x1q0g3np xqjyukv x1qjc9v5 x1oa3qoh x1nhvcw1')\n",
    "    comments = []\n",
    "    \n",
    "    for comment in comments_raw[1:len(comments_raw)]:\n",
    "        comment_data = {}\n",
    "\n",
    "        user_element = comment.find('span', class_='_ap3a _aaco _aacw _aacx _aad7 _aade')\n",
    "        if user_element:\n",
    "            comment_data['User'] = user_element.text\n",
    "        else:\n",
    "            'N/A'\n",
    "\n",
    "        time_element = comment.find('time')\n",
    "        if time_element:\n",
    "            comment_data['Time'] = time_element.text\n",
    "        else:\n",
    "            'N/A'\n",
    "\n",
    "        text_element = comment.find('div', class_='x9f619 xjbqb8w x78zum5 x168nmei x13lgxp2 x5pf9jr xo71vjh x1uhb9sk x1plvlek xryxfnj x1c4vz4f x2lah0s xdt5ytf xqjyukv x1cy8zhl x1oa3qoh x1nhvcw1')\n",
    "        if text_element:\n",
    "            comment_data['Text'] = text_element.text\n",
    "        else:\n",
    "            'N/A'\n",
    "\n",
    "        like_element = comment.find('span', class_='x1lliihq x193iq5w x6ikm8r x10wlt62 xlyipyv xuxw1ft')\n",
    "        if like_element.text.split(' ')[0] == 'Reply':\n",
    "            comment_data['No. of Likes'] = 0\n",
    "        elif like_element:\n",
    "            comment_data['No. of Likes'] = like_element.text.split(' ')[0]\n",
    "        else:\n",
    "            'N/A'\n",
    "\n",
    "        url_element = comment.find('a', class_='x1i10hfl xjbqb8w x1ejq31n xd10rxx x1sy0etr x17r0tee x972fbf xcfux6l x1qhh985 xm0m39n x9f619 x1ypdohk xt0psk2 xe8uvvx xdj266r x11i5rnm xat24cr x1mh8g0r xexx8yu x4uap5 x18d9i69 xkhd6sd x16tdsg8 x1hl2dhg xggy1nq x1a2a7pz _a6hd')\n",
    "        if url_element:\n",
    "            comment_data['URL'] = 'https://www.instagram.com' + url_element['href']\n",
    "        else:\n",
    "            'N/A'\n",
    "\n",
    "        comments.append(comment_data)\n",
    "    \n",
    "    df = pd.DataFrame(comments)\n",
    "    return df"
   ]
  },
  {
   "cell_type": "code",
   "execution_count": null,
   "metadata": {},
   "outputs": [],
   "source": [
    "df_temp = scrape_comments(page_content)"
   ]
  },
  {
   "cell_type": "code",
   "execution_count": null,
   "metadata": {},
   "outputs": [],
   "source": [
    "df = pd.concat([df, df_temp], ignore_index=True)"
   ]
  },
  {
   "cell_type": "code",
   "execution_count": null,
   "metadata": {},
   "outputs": [],
   "source": [
    "out_path = 'C:\\\\Users\\\\BINARY COMPUTERS\\\\Documents\\\\Instagram.xlsx'\n",
    "writer = pd.ExcelWriter(out_path, engine='xlsxwriter')\n",
    "df.to_excel(writer, sheet_name='Sheet1')\n",
    "writer.save()"
   ]
  },
  {
   "cell_type": "code",
   "execution_count": null,
   "metadata": {},
   "outputs": [],
   "source": [
    "driver.quit()"
   ]
  }
 ],
 "metadata": {
  "kernelspec": {
   "display_name": "Python 3",
   "language": "python",
   "name": "python3"
  },
  "language_info": {
   "codemirror_mode": {
    "name": "ipython",
    "version": 3
   },
   "file_extension": ".py",
   "mimetype": "text/x-python",
   "name": "python",
   "nbconvert_exporter": "python",
   "pygments_lexer": "ipython3",
   "version": "3.8.5"
  }
 },
 "nbformat": 4,
 "nbformat_minor": 4
}
