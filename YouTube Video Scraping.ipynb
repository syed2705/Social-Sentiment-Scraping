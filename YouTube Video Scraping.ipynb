{
 "cells": [
  {
   "cell_type": "code",
   "execution_count": null,
   "metadata": {},
   "outputs": [],
   "source": [
    "# Import the necessary libraries\n",
    "import pandas as pd\n",
    "from selenium import webdriver\n",
    "from bs4 import BeautifulSoup"
   ]
  },
  {
   "cell_type": "code",
   "execution_count": null,
   "metadata": {},
   "outputs": [],
   "source": [
    "# Objective: Scrape comments from a given video.\n",
    "\n",
    "# Running Selenium webdriver with target URL.\n",
    "driver = webdriver.Chrome()\n",
    "driver.get('https://www.youtube.com/watch?v=0JE5LrPBSb0')\n",
    "driver.set_page_load_timeout(10)"
   ]
  },
  {
   "cell_type": "code",
   "execution_count": null,
   "metadata": {},
   "outputs": [],
   "source": [
    "driver.get('https://www.youtube.com/watch?v=NOpmy7Kqgok')"
   ]
  },
  {
   "cell_type": "code",
   "execution_count": null,
   "metadata": {},
   "outputs": [],
   "source": [
    "# Import page content. Make sure to scroll the page as much as needed before executing this command.\n",
    "page_content = driver.page_source"
   ]
  },
  {
   "cell_type": "code",
   "execution_count": null,
   "metadata": {},
   "outputs": [],
   "source": [
    "# Define a function that takes page content as input and outputs dataframe with scraped data.\n",
    "def scrape_video(page_content, URL):\n",
    "    \n",
    "    # Parsing page content as BeautifulSoup object\n",
    "    soup = BeautifulSoup(page_content, 'html.parser')\n",
    "    \n",
    "    # Create a BeautifulSoup ResultSet with data for all the posts to be scraped\n",
    "    comments_raw = soup.find_all('ytd-comment-renderer', class_='style-scope ytd-comment-thread-renderer')\n",
    "    \n",
    "    # Create an empty list which would be appended with all comments\n",
    "    comments = []\n",
    "    \n",
    "    # Iterate on the ResultSet to extract data for individual posts\n",
    "    for comment in comments_raw:\n",
    "        comment_data = {}\n",
    "        \n",
    "        # Getting the author\n",
    "        author_element = comment.find('h3', class_='style-scope ytd-comment-renderer')\n",
    "        if author_element:\n",
    "            comment_data['Author'] = author_element.text.strip()\n",
    "        else:\n",
    "            'N/A'\n",
    "            \n",
    "        # Getting the Text\n",
    "        text_element = comment.find('yt-formatted-string', class_='style-scope ytd-comment-renderer')\n",
    "        if text_element:\n",
    "            comment_data['Text'] = text_element.text\n",
    "        else:\n",
    "            'N/A'\n",
    "            \n",
    "        # Geting Timestamp\n",
    "        time_element = comment.find('yt-formatted-string', class_='published-time-text style-scope ytd-comment-renderer')\n",
    "        if time_element:\n",
    "            comment_data['Timestamp'] = time_element.text\n",
    "        else:\n",
    "            'N/A'\n",
    "        \n",
    "        # Getting like count\n",
    "        like_element = comment.find('span', class_='style-scope ytd-comment-action-buttons-renderer')\n",
    "        if like_element:\n",
    "            comment_data['No. of Likes'] = like_element.text.strip()\n",
    "        else:\n",
    "            'N/A'\n",
    "            \n",
    "        # URL\n",
    "        comment_data['URL'] = URL\n",
    "        \n",
    "        # Appending the comment_data dict to the list\n",
    "        comments.append(comment_data)\n",
    "    \n",
    "    # Create a DataFrame from the list of dictionaries after the loop\n",
    "    df = pd.DataFrame(comments)\n",
    "    return df"
   ]
  },
  {
   "cell_type": "code",
   "execution_count": null,
   "metadata": {},
   "outputs": [],
   "source": [
    "df_temp = scrape_video(page_content, 'https://www.youtube.com/watch?v=NOpmy7Kqgok')"
   ]
  },
  {
   "cell_type": "code",
   "execution_count": null,
   "metadata": {},
   "outputs": [],
   "source": [
    "df = pd.concat([df, df_temp], ignore_index=True)"
   ]
  },
  {
   "cell_type": "code",
   "execution_count": null,
   "metadata": {},
   "outputs": [],
   "source": [
    "driver.quit()"
   ]
  },
  {
   "cell_type": "code",
   "execution_count": null,
   "metadata": {},
   "outputs": [],
   "source": [
    "# Define a function that takes the dataframe and filename as input and writes an excel file to disk\n",
    "def write_to_disk(df, filename):\n",
    "    out_path = f'C:\\\\Users\\\\BINARY COMPUTERS\\\\Documents\\\\{filename}.xlsx'\n",
    "    writer = pd.ExcelWriter(out_path , engine='xlsxwriter')\n",
    "    df.to_excel(writer, sheet_name='Sheet1')\n",
    "    writer.save()\n",
    "    print(f\"Write Complete. You can access the file at {out_path}\")"
   ]
  },
  {
   "cell_type": "code",
   "execution_count": null,
   "metadata": {},
   "outputs": [],
   "source": [
    "write_to_disk(df, 'GPT Store-YouTube')"
   ]
  }
 ],
 "metadata": {
  "kernelspec": {
   "display_name": "Python 3",
   "language": "python",
   "name": "python3"
  },
  "language_info": {
   "codemirror_mode": {
    "name": "ipython",
    "version": 3
   },
   "file_extension": ".py",
   "mimetype": "text/x-python",
   "name": "python",
   "nbconvert_exporter": "python",
   "pygments_lexer": "ipython3",
   "version": "3.8.5"
  }
 },
 "nbformat": 4,
 "nbformat_minor": 4
}
