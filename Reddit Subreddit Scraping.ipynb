{
 "cells": [
  {
   "cell_type": "code",
   "execution_count": null,
   "metadata": {},
   "outputs": [],
   "source": [
    "# Import the necessary libraries\n",
    "from bs4 import BeautifulSoup\n",
    "from selenium import webdriver\n",
    "import pandas as pd"
   ]
  },
  {
   "cell_type": "code",
   "execution_count": null,
   "metadata": {},
   "outputs": [],
   "source": [
    "# Objective: Scrape posts from a subreddit.\n",
    "\n",
    "# Running Selenium webdriver with target URL\n",
    "driver = webdriver.Chrome()\n",
    "driver.get('https://www.reddit.com/search/?q=gpt+store&type=link&cId=0319bff9-d7ff-451d-8b06-0fd060649b07&iId=d5d9a0d6-65bf-4715-8765-1353b0982e89')\n",
    "driver.set_page_load_timeout(10)"
   ]
  },
  {
   "cell_type": "code",
   "execution_count": null,
   "metadata": {},
   "outputs": [],
   "source": [
    "# Import page content. Make sure to scroll the page as much as needed before executing this command.\n",
    "page_content = driver.page_source"
   ]
  },
  {
   "cell_type": "code",
   "execution_count": null,
   "metadata": {},
   "outputs": [],
   "source": [
    "# Define a function that takes page content as input and outputs dataframe with scraped data.\n",
    "def scrape_subreddit(page_content):\n",
    "    \n",
    "    # Parsing page content as BeautifulSoup object\n",
    "    soup = BeautifulSoup(page_content, 'html.parser')\n",
    "    \n",
    "    # Create a BeautifulSoup ResultSet with data for all the posts to be scraped\n",
    "    posts_raw = soup.find_all('shreddit-post')\n",
    "    \n",
    "    # Create an empty list which would be appended with all posts\n",
    "    posts = []\n",
    "    \n",
    "    # Iterate on the ResultSet to extract data for individual posts\n",
    "    for post in posts_raw:\n",
    "        post_data = {}\n",
    "        \n",
    "        # Using .get() method to safely access attributes and find() to handle None cases\n",
    "        \n",
    "        # Getting the Title\n",
    "        title_element = post.find('a', class_='block font-semibold text-neutral-content-strong m-0 visited:text-neutral-content-weak text-16 xs:text-18 mb-2xs xs:mb-xs')\n",
    "        if title_element:\n",
    "            post_data['Title'] = title_element.text.strip() \n",
    "        else:\n",
    "            'N/A'\n",
    "            \n",
    "        # Getting the Text\n",
    "        text_element = post.find('div', class_='mb-xs')\n",
    "        if text_element and text_element.find('p'):\n",
    "            post_data['Text'] = text_element.find('p').text.strip() \n",
    "        else:\n",
    "            'N/A'\n",
    "            \n",
    "        # Getting the Author\n",
    "        author_element = post.find('a', class_='flex items-center text-neutral-content visited:text-neutral-content-weak font-bold a no-visited no-underline hover:no-underline')\n",
    "        if author_element and author_element.find('span', class_='whitespace-nowrap'):\n",
    "            post_data['Author'] = author_element.find('span', class_='whitespace-nowrap').text \n",
    "        else:\n",
    "            'N/A'\n",
    "            \n",
    "        # Getting timestamp, upvotes, comments, and URL\n",
    "        post_data['Timestamp'] = post.get('created-timestamp', 'N/A')\n",
    "        post_data['No. of Upvotes'] = post.get('score', 'N/A')\n",
    "        post_data['No. of Comments'] = post.get('comment-count', 'N/A')\n",
    "        post_data['URL'] = post.get('content-href', 'N/A')\n",
    "        \n",
    "        # Appending the post_data dict to the list\n",
    "        posts.append(post_data)\n",
    "\n",
    "    # Create a DataFrame from the list of dictionaries after the loop\n",
    "    df = pd.DataFrame(posts)\n",
    "    return df"
   ]
  },
  {
   "cell_type": "code",
   "execution_count": null,
   "metadata": {},
   "outputs": [],
   "source": [
    "df = scrape_subreddit(page_content)"
   ]
  },
  {
   "cell_type": "code",
   "execution_count": null,
   "metadata": {},
   "outputs": [],
   "source": [
    "driver.quit()"
   ]
  },
  {
   "cell_type": "code",
   "execution_count": null,
   "metadata": {},
   "outputs": [],
   "source": [
    "# Define a function that takes the dataframe and filename as input and writes an excel file to disk\n",
    "def write_to_disk(df, filename):\n",
    "    out_path = f'C:\\\\Users\\\\BINARY COMPUTERS\\\\Documents\\\\{filename}.xlsx'\n",
    "    writer = pd.ExcelWriter(out_path , engine='xlsxwriter')\n",
    "    df.to_excel(writer, sheet_name='Sheet1')\n",
    "    writer.save()\n",
    "    print(f\"Write Complete. You can access the file at {out_path}\")"
   ]
  },
  {
   "cell_type": "code",
   "execution_count": null,
   "metadata": {},
   "outputs": [],
   "source": [
    "write_to_disk(df, 'r_cars')"
   ]
  }
 ],
 "metadata": {
  "kernelspec": {
   "display_name": "Python 3",
   "language": "python",
   "name": "python3"
  },
  "language_info": {
   "codemirror_mode": {
    "name": "ipython",
    "version": 3
   },
   "file_extension": ".py",
   "mimetype": "text/x-python",
   "name": "python",
   "nbconvert_exporter": "python",
   "pygments_lexer": "ipython3",
   "version": "3.8.5"
  }
 },
 "nbformat": 4,
 "nbformat_minor": 4
}
