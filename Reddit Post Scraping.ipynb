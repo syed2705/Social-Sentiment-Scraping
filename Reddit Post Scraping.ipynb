{
 "cells": [
  {
   "cell_type": "code",
   "execution_count": 1,
   "metadata": {},
   "outputs": [],
   "source": [
    "# Import the necessary libraries\n",
    "import pandas as pd\n",
    "from selenium import webdriver\n",
    "from bs4 import BeautifulSoup\n",
    "import time"
   ]
  },
  {
   "cell_type": "code",
   "execution_count": 2,
   "metadata": {},
   "outputs": [],
   "source": [
    "def auto_scroll(driver):\n",
    "    last_height = driver.execute_script(\"return document.body.scrollHeight\")\n",
    "    while True:\n",
    "        driver.execute_script(\"window.scrollTo(0, document.body.scrollHeight);\")\n",
    "        time.sleep(5)  # Adjust sleep time as necessary\n",
    "        new_height = driver.execute_script(\"return document.body.scrollHeight\")\n",
    "        if new_height == last_height:\n",
    "            break\n",
    "        last_height = new_height"
   ]
  },
  {
   "cell_type": "code",
   "execution_count": 7,
   "metadata": {},
   "outputs": [],
   "source": [
    "# Objective: Scrape comments from a given post.\n",
    "\n",
    "# Running Selenium webdriver with target URL.\n",
    "driver = webdriver.Chrome()\n",
    "\n",
    "auto_scroll(driver)"
   ]
  },
  {
   "cell_type": "code",
   "execution_count": 5,
   "metadata": {},
   "outputs": [],
   "source": [
    "auto_scroll(driver)"
   ]
  },
  {
   "cell_type": "code",
   "execution_count": 6,
   "metadata": {},
   "outputs": [],
   "source": [
    "driver.quit()"
   ]
  },
  {
   "cell_type": "code",
   "execution_count": 8,
   "metadata": {},
   "outputs": [],
   "source": [
    "# Import page content. Make sure to scroll the page as much as needed before executing this command.\n",
    "page_content = driver.page_source"
   ]
  },
  {
   "cell_type": "code",
   "execution_count": 9,
   "metadata": {},
   "outputs": [],
   "source": [
    "# Define a function that takes page content as input and outputs dataframe with scraped data.\n",
    "def scrape_post(page_content):\n",
    "    \n",
    "    # Parsing page content as BeautifulSoup object\n",
    "    soup = BeautifulSoup(page_content, 'html.parser')\n",
    "    \n",
    "    # Create a BeautifulSoup ResultSet with data for all the posts to be scraped\n",
    "    comments_raw = soup.find_all('shreddit-comment')\n",
    "    \n",
    "    # Filtering for top-level-comments only\n",
    "    comments_depth_0 = [comment for comment in comments_raw if comment['depth']=='0']\n",
    "    \n",
    "    # Create an empty list which would be appended with all comments\n",
    "    comments = []\n",
    "    \n",
    "    # Iterate on the ResultSet to extract data for individual posts\n",
    "    for comment in comments_depth_0:\n",
    "        comment_data = {}\n",
    "        \n",
    "        # Getting the author\n",
    "        author_element = comment.find('a', class_='truncate font-bold text-neutral-content-strong text-12 hover:underline')\n",
    "        if author_element:\n",
    "            comment_data['Author'] = author_element.text.strip()\n",
    "        else:\n",
    "            'N/A'\n",
    "        \n",
    "        # Getting the Text\n",
    "        text_element = comment.find('div', class_='md text-14 rounded-[8px] pb-2xs')\n",
    "        if text_element and text_element.find('p'):\n",
    "            comment_data['Text'] = text_element.text.strip()\n",
    "        else:\n",
    "            'N/A'\n",
    "                    \n",
    "        # Geting Timestamp\n",
    "        if comment.find('time'):\n",
    "            comment_data['Timestamp'] = comment.find('time')['datetime']\n",
    "        else:\n",
    "            'N/A'\n",
    "                    \n",
    "        # Getting score\n",
    "        try:\n",
    "            comment_data['Score'] = comment['score']\n",
    "        except Exception as e:\n",
    "            comment_data['Score'] = 'N/A'\n",
    "            \n",
    "        # Getting URL\n",
    "        try:\n",
    "            comment_data['URL'] = 'https://www.reddit.com' + comment['permalink']\n",
    "        except Exception as e:\n",
    "            comment_data['URL'] = 'N/A'\n",
    "            \n",
    "        # Appending the comment_data dict to the list\n",
    "        comments.append(comment_data)\n",
    "        \n",
    "    # Create a DataFrame from the list of dictionaries after the loop\n",
    "    df = pd.DataFrame(comments)\n",
    "    return df"
   ]
  },
  {
   "cell_type": "code",
   "execution_count": 10,
   "metadata": {},
   "outputs": [],
   "source": [
    "df = scrape_post(page_content)"
   ]
  },
  {
   "cell_type": "code",
   "execution_count": 11,
   "metadata": {},
   "outputs": [
    {
     "name": "stdout",
     "output_type": "stream",
     "text": [
      "<class 'pandas.core.frame.DataFrame'>\n",
      "RangeIndex: 13 entries, 0 to 12\n",
      "Data columns (total 5 columns):\n",
      " #   Column     Non-Null Count  Dtype \n",
      "---  ------     --------------  ----- \n",
      " 0   Author     13 non-null     object\n",
      " 1   Text       13 non-null     object\n",
      " 2   Timestamp  13 non-null     object\n",
      " 3   Score      13 non-null     object\n",
      " 4   URL        13 non-null     object\n",
      "dtypes: object(5)\n",
      "memory usage: 648.0+ bytes\n"
     ]
    }
   ],
   "source": [
    "df.info()"
   ]
  },
  {
   "cell_type": "code",
   "execution_count": 17,
   "metadata": {},
   "outputs": [],
   "source": [
    "driver.quit()"
   ]
  },
  {
   "cell_type": "code",
   "execution_count": 8,
   "metadata": {},
   "outputs": [],
   "source": [
    "# Define a function that takes the dataframe and filename as input and writes an excel file to disk\n",
    "def write_to_disk(df, filename):\n",
    "    out_path = f'C:\\\\Users\\\\BINARY COMPUTERS\\\\Documents\\\\{filename}.xlsx'\n",
    "    writer = pd.ExcelWriter(out_path , engine='xlsxwriter')\n",
    "    df.to_excel(writer, sheet_name='Sheet1')\n",
    "    writer.save()\n",
    "    print(f\"Write Complete. You can access the file at {out_path}\")"
   ]
  },
  {
   "cell_type": "code",
   "execution_count": 9,
   "metadata": {},
   "outputs": [
    {
     "name": "stdout",
     "output_type": "stream",
     "text": [
      "Write Complete. You can access the file at C:\\Users\\BINARY COMPUTERS\\Documents\\Reddit Post.xlsx\n"
     ]
    }
   ],
   "source": [
    "write_to_disk(df, 'Reddit Post')"
   ]
  },
  {
   "cell_type": "code",
   "execution_count": null,
   "metadata": {},
   "outputs": [],
   "source": []
  }
 ],
 "metadata": {
  "kernelspec": {
   "display_name": "Python 3",
   "language": "python",
   "name": "python3"
  },
  "language_info": {
   "codemirror_mode": {
    "name": "ipython",
    "version": 3
   },
   "file_extension": ".py",
   "mimetype": "text/x-python",
   "name": "python",
   "nbconvert_exporter": "python",
   "pygments_lexer": "ipython3",
   "version": "3.8.5"
  }
 },
 "nbformat": 4,
 "nbformat_minor": 4
}
