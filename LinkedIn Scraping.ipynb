{
 "cells": [
  {
   "cell_type": "code",
   "execution_count": null,
   "metadata": {},
   "outputs": [],
   "source": [
    "import time\n",
    "import pandas as pd\n",
    "from bs4 import BeautifulSoup\n",
    "from selenium import webdriver"
   ]
  },
  {
   "cell_type": "code",
   "execution_count": null,
   "metadata": {},
   "outputs": [],
   "source": [
    "driver = webdriver.Chrome()"
   ]
  },
  {
   "cell_type": "code",
   "execution_count": null,
   "metadata": {},
   "outputs": [],
   "source": [
    "driver.get('https://www.linkedin.com/pulse/why-gpt-store-big-deal-kishore-dharmarajan-zpwpf/')"
   ]
  },
  {
   "cell_type": "code",
   "execution_count": null,
   "metadata": {},
   "outputs": [],
   "source": [
    "page_content = driver.page_source"
   ]
  },
  {
   "cell_type": "code",
   "execution_count": null,
   "metadata": {},
   "outputs": [],
   "source": [
    "def scrape_comments(page_content):\n",
    "    soup = BeautifulSoup(page_content, 'html.parser')\n",
    "    comments_raw = soup.find_all('article', class_='comments-comment-item comments-comments-list__comment-item')\n",
    "    comments = []\n",
    "    \n",
    "    for comment in comments_raw:\n",
    "        comment_data = {}\n",
    "        \n",
    "        user_element = comment.find('div', class_='comments-post-meta__profile-info-wrapper display-flex').span.span\n",
    "        if user_element:\n",
    "            comment_data['User'] = user_element.text\n",
    "        else:\n",
    "            'N/A'\n",
    "            \n",
    "        text_element = comment.find('span', class_='comments-comment-item__main-content feed-shared-main-content--comment t-14 t-black t-normal')\n",
    "        if text_element:\n",
    "            comment_data['Text'] = text_element.text.strip()\n",
    "        else:\n",
    "            'N/A'\n",
    "            \n",
    "        time_element = comment.find('time')\n",
    "        if time_element:\n",
    "            comment_data['Time'] = time_element.text\n",
    "        else:\n",
    "            'N/A'\n",
    "            \n",
    "        like_element = comment.find('button', class_='comments-comment-social-bar__reactions-count t-12 t-black--light t-normal hoverable-link-text display-flex')\n",
    "        if like_element:\n",
    "            comment_data['No. of Likes'] = like_element.text.strip()\n",
    "        else:\n",
    "            'N/A'\n",
    "            \n",
    "        comments.append(comment_data)\n",
    "        df = pd.DataFrame(comments)\n",
    "        return df"
   ]
  },
  {
   "cell_type": "code",
   "execution_count": null,
   "metadata": {},
   "outputs": [],
   "source": [
    "df_temp = scrape_comments(page_content)"
   ]
  },
  {
   "cell_type": "code",
   "execution_count": null,
   "metadata": {},
   "outputs": [],
   "source": [
    "df = pd.concat([df, df_temp], ignore_index=True)"
   ]
  },
  {
   "cell_type": "code",
   "execution_count": null,
   "metadata": {},
   "outputs": [],
   "source": [
    "driver.quit()"
   ]
  }
 ],
 "metadata": {
  "kernelspec": {
   "display_name": "Python 3",
   "language": "python",
   "name": "python3"
  },
  "language_info": {
   "codemirror_mode": {
    "name": "ipython",
    "version": 3
   },
   "file_extension": ".py",
   "mimetype": "text/x-python",
   "name": "python",
   "nbconvert_exporter": "python",
   "pygments_lexer": "ipython3",
   "version": "3.8.5"
  }
 },
 "nbformat": 4,
 "nbformat_minor": 4
}
