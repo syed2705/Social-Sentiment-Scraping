{
 "cells": [
  {
   "cell_type": "code",
   "execution_count": null,
   "metadata": {},
   "outputs": [],
   "source": [
    "import time\n",
    "import pandas as pd\n",
    "from bs4 import BeautifulSoup\n",
    "from selenium import webdriver"
   ]
  },
  {
   "cell_type": "code",
   "execution_count": null,
   "metadata": {},
   "outputs": [],
   "source": [
    "driver = webdriver.Chrome()"
   ]
  },
  {
   "cell_type": "code",
   "execution_count": null,
   "metadata": {},
   "outputs": [],
   "source": [
    "driver.get('https://www.facebook.com/gizmodo/posts/pfbid02zLYunmJs1aqqVjmcn9sS1Q9wBjM2iZ3Xpx2N3VfxZPBk589CZJ38hLLx3QUfiJyAl')"
   ]
  },
  {
   "cell_type": "code",
   "execution_count": null,
   "metadata": {},
   "outputs": [],
   "source": [
    "page_content = driver.page_source"
   ]
  },
  {
   "cell_type": "code",
   "execution_count": null,
   "metadata": {},
   "outputs": [],
   "source": [
    "def scrape_comments(page_content):\n",
    "    soup = BeautifulSoup(page_content, 'html.parser')\n",
    "    temp = soup.find_all('div', class_='x78zum5 xdt5ytf')\n",
    "    comments_raw = []\n",
    "    comments = []\n",
    "    \n",
    "    for comment in temp:\n",
    "        try:\n",
    "            if \"Comment by\" in comment.find('div', class_='x1n2onr6 x1swvt13 x1iorvi4 x78zum5 x1q0g3np x1a2a7pz')['aria-label']:\n",
    "                comments_raw.append(comment)\n",
    "        except:\n",
    "            continue\n",
    "        \n",
    "    \n",
    "    for comment in comments_raw:\n",
    "        comment_data = {}\n",
    "        \n",
    "        user_element = comment.find('span', class_='x193iq5w xeuugli x13faqbe x1vvkbs x1xmvt09 x1lliihq x1s928wv xhkezso x1gmr53x x1cpjm7i x1fgarty x1943h6x x4zkp8e x676frb x1nxh6w3 x1sibtaa x1s688f xzsf02u')\n",
    "        if user_element:\n",
    "            comment_data['User'] = user_element.text\n",
    "        else:\n",
    "            'N/A'\n",
    "            \n",
    "        text_element = comment.find('span', class_='x193iq5w xeuugli x13faqbe x1vvkbs x1xmvt09 x1lliihq x1s928wv xhkezso x1gmr53x x1cpjm7i x1fgarty x1943h6x xudqn12 x3x7a5m x6prxxf xvq8zen xo1l8bm xzsf02u')\n",
    "        if text_element:\n",
    "            comment_data['Text'] = text_element.text\n",
    "        else:\n",
    "            'N/A'\n",
    "            \n",
    "        like_element = comment.find('span', class_='xi81zsa x1nxh6w3 x1fcty0u x1sibtaa xexx8yu xg83lxy x18d9i69 x1h0ha7o xuxw1ft')\n",
    "        if like_element:\n",
    "            comment_data['No. of Likes'] = like_element.text\n",
    "        else:\n",
    "            'N/A'\n",
    "            \n",
    "        url_element = comment.find('a', class_='x1i10hfl xjbqb8w x1ejq31n xd10rxx x1sy0etr x17r0tee x972fbf xcfux6l x1qhh985 xm0m39n x9f619 x1ypdohk xt0psk2 xe8uvvx xdj266r x11i5rnm xat24cr x1mh8g0r xexx8yu x4uap5 x18d9i69 xkhd6sd x16tdsg8 x1hl2dhg xggy1nq x1a2a7pz x1heor9g xt0b8zv')\n",
    "        if url_element:\n",
    "            comment_data['URL'] = url_element['href'].split('&')[0]\n",
    "        else:\n",
    "            'N/A'\n",
    "            \n",
    "        time_element = comment.find('div', class_='x6s0dn4 x3nfvp2').find('span', class_='x4k7w5x x1h91t0o x1h9r5lt x1jfb8zj xv2umb2 x1beo9mf xaigb6o x12ejxvf x3igimt xarpa2k xedcshv x1lytzrv x1t2pt76 x7ja8zs x1qrby5j')\n",
    "        if time_element:\n",
    "            comment_data['Time'] = time_element.text\n",
    "        else:\n",
    "            'N/A'\n",
    "            \n",
    "        comments.append(comment_data)\n",
    "    \n",
    "    df = pd.DataFrame(comments)\n",
    "    \n",
    "    return df"
   ]
  },
  {
   "cell_type": "code",
   "execution_count": null,
   "metadata": {},
   "outputs": [],
   "source": [
    "df_temp = scrape_comments(page_content)"
   ]
  },
  {
   "cell_type": "code",
   "execution_count": null,
   "metadata": {},
   "outputs": [],
   "source": [
    "df = pd.concat([df, df_temp], ignore_index=True)"
   ]
  },
  {
   "cell_type": "code",
   "execution_count": null,
   "metadata": {},
   "outputs": [],
   "source": [
    "out_path = 'C:\\\\Users\\\\BINARY COMPUTERS\\\\Documents\\\\Facebook.xlsx'\n",
    "writer = pd.ExcelWriter(out_path, engine='xlsxwriter')\n",
    "df.to_excel(writer, sheet_name='Sheet1')\n",
    "writer.save()"
   ]
  },
  {
   "cell_type": "code",
   "execution_count": null,
   "metadata": {},
   "outputs": [],
   "source": [
    "driver.quit()"
   ]
  }
 ],
 "metadata": {
  "kernelspec": {
   "display_name": "Python 3",
   "language": "python",
   "name": "python3"
  },
  "language_info": {
   "codemirror_mode": {
    "name": "ipython",
    "version": 3
   },
   "file_extension": ".py",
   "mimetype": "text/x-python",
   "name": "python",
   "nbconvert_exporter": "python",
   "pygments_lexer": "ipython3",
   "version": "3.8.5"
  }
 },
 "nbformat": 4,
 "nbformat_minor": 4
}
