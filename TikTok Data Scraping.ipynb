{
 "cells": [
  {
   "cell_type": "code",
   "execution_count": null,
   "metadata": {},
   "outputs": [],
   "source": [
    "# Import the necessary libraries\n",
    "from bs4 import BeautifulSoup\n",
    "import pandas as pd\n",
    "from selenium import webdriver\n",
    "import time"
   ]
  },
  {
   "cell_type": "code",
   "execution_count": null,
   "metadata": {},
   "outputs": [],
   "source": [
    "# Objective: Scrape comments from a given post.\n",
    "\n",
    "# Running Selenium webdriver with target URL.\n",
    "driver = webdriver.Chrome()"
   ]
  },
  {
   "cell_type": "code",
   "execution_count": null,
   "metadata": {},
   "outputs": [],
   "source": [
    "driver.get('https://www.tiktok.com/@prestonrho/video/7327822937065688366')"
   ]
  },
  {
   "cell_type": "code",
   "execution_count": null,
   "metadata": {},
   "outputs": [],
   "source": [
    "# Import page content. Make sure to scroll the page as much as needed before executing this command.\n",
    "page_content = driver.page_source"
   ]
  },
  {
   "cell_type": "code",
   "execution_count": null,
   "metadata": {},
   "outputs": [],
   "source": [
    "# Define a function that takes page content as input and outputs dataframe with scraped data.\n",
    "def scrape_post(page_content, URL):\n",
    "    \n",
    "    # Parsing page content as BeautifulSoup object\n",
    "    soup = BeautifulSoup(page_content, 'html.parser')\n",
    "    \n",
    "    # Create a BeautifulSoup ResultSet with data for all the posts to be scraped\n",
    "    comments_raw = soup.find_all('div', class_='css-1mf23fd-DivContentContainer e1g2efjf1')\n",
    "    \n",
    "    # Subset for comment level 1\n",
    "    comments_level_1 = [comment for comment in comments_raw if comment.find('p')['data-e2e'] == 'comment-level-1']\n",
    "    \n",
    "    # Create an empty list which would be appended with all comments\n",
    "    comments = []\n",
    "    \n",
    "    # Iterate on the ResultSet to extract data for individual posts\n",
    "    for comment in comments_level_1:\n",
    "        comment_data = {}\n",
    "        \n",
    "        # Getting the author\n",
    "        author_element = comment.find('span', class_='css-1665s4c-SpanUserNameText e1g2efjf3')\n",
    "        if author_element:\n",
    "            comment_data['Author'] = author_element.text\n",
    "        else:\n",
    "            'N/A'\n",
    "        \n",
    "        # Getting the text\n",
    "        text_element = comment.find('p', class_='css-xm2h10-PCommentText e1g2efjf6')\n",
    "        if text_element:\n",
    "            comment_data['Text'] = text_element.text\n",
    "        else:\n",
    "            'N/A'\n",
    "            \n",
    "        # Getting the timestamp\n",
    "        time_element = comment.find('span', class_='css-1esugaz-SpanCreatedTime e1g2efjf8')\n",
    "        if time_element:\n",
    "            comment_data['Time'] = time_element.text\n",
    "        else:\n",
    "            'N/A'\n",
    "            \n",
    "        # Getting the like count\n",
    "        like_count_element = comment.find('span', class_='css-gb2mrc-SpanCount ezxoskx3')\n",
    "        if like_count_element:\n",
    "            comment_data['No. of Likes'] = like_count_element.text\n",
    "        else:\n",
    "            'N/A'\n",
    "        \n",
    "        # Getting the URL\n",
    "        comment_data['URL'] = URL\n",
    "        \n",
    "        # Appending the comment_data dict to the list\n",
    "        comments.append(comment_data)\n",
    "        \n",
    "    # Create a DataFrame from the list of dictionaries after the loop\n",
    "    df = pd.DataFrame(comments)\n",
    "    return df"
   ]
  },
  {
   "cell_type": "code",
   "execution_count": null,
   "metadata": {},
   "outputs": [],
   "source": [
    "df_temp = scrape_post(page_content, 'https://www.tiktok.com/@prestonrho/video/7327822937065688366')"
   ]
  },
  {
   "cell_type": "code",
   "execution_count": null,
   "metadata": {},
   "outputs": [],
   "source": [
    "df = pd.concat([df, df_temp], ignore_index=True)"
   ]
  },
  {
   "cell_type": "code",
   "execution_count": null,
   "metadata": {},
   "outputs": [],
   "source": [
    "driver.quit()"
   ]
  },
  {
   "cell_type": "code",
   "execution_count": null,
   "metadata": {},
   "outputs": [],
   "source": [
    "# Define a function that takes the dataframe and filename as input and writes an excel file to disk\n",
    "def write_to_disk(df, filename):\n",
    "    out_path = f'C:\\\\Users\\\\BINARY COMPUTERS\\\\Documents\\\\{filename}.xlsx'\n",
    "    writer = pd.ExcelWriter(out_path , engine='xlsxwriter')\n",
    "    df.to_excel(writer, sheet_name='Sheet1')\n",
    "    writer.save()\n",
    "    print(f\"Write Complete. You can access the file at {out_path}\")"
   ]
  },
  {
   "cell_type": "code",
   "execution_count": null,
   "metadata": {},
   "outputs": [],
   "source": [
    "write_to_disk(df,'TikTok-GPT Store')"
   ]
  },
  {
   "cell_type": "code",
   "execution_count": null,
   "metadata": {},
   "outputs": [],
   "source": [
    "out_path = \"C:\\\\Users\\\\BINARY COMPUTERS\\\\Documents\\\\TikTok.xlsx\"\n",
    "writer = pd.ExcelWriter(out_path , engine='xlsxwriter')\n",
    "comments_df.to_excel(writer, sheet_name='Sheet1')\n",
    "writer.save()"
   ]
  }
 ],
 "metadata": {
  "kernelspec": {
   "display_name": "Python 3",
   "language": "python",
   "name": "python3"
  },
  "language_info": {
   "codemirror_mode": {
    "name": "ipython",
    "version": 3
   },
   "file_extension": ".py",
   "mimetype": "text/x-python",
   "name": "python",
   "nbconvert_exporter": "python",
   "pygments_lexer": "ipython3",
   "version": "3.8.5"
  }
 },
 "nbformat": 4,
 "nbformat_minor": 4
}
