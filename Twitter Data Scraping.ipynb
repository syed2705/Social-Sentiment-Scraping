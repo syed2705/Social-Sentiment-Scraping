{
 "cells": [
  {
   "cell_type": "code",
   "execution_count": null,
   "metadata": {},
   "outputs": [],
   "source": [
    "from selenium import webdriver\n",
    "import pandas as pd\n",
    "from bs4 import BeautifulSoup\n",
    "import time"
   ]
  },
  {
   "cell_type": "code",
   "execution_count": null,
   "metadata": {},
   "outputs": [],
   "source": [
    "driver = webdriver.Chrome()"
   ]
  },
  {
   "cell_type": "code",
   "execution_count": null,
   "metadata": {},
   "outputs": [],
   "source": [
    "driver.get('https://twitter.com/AlexReibman/status/1767296114267754626')"
   ]
  },
  {
   "cell_type": "code",
   "execution_count": null,
   "metadata": {},
   "outputs": [],
   "source": [
    "page_content = driver.page_source"
   ]
  },
  {
   "cell_type": "code",
   "execution_count": null,
   "metadata": {},
   "outputs": [],
   "source": [
    "comments = []"
   ]
  },
  {
   "cell_type": "code",
   "execution_count": null,
   "metadata": {},
   "outputs": [],
   "source": [
    "def scrape_comments(page_content):\n",
    "    soup = BeautifulSoup(page_content, 'html.parser')\n",
    "    comments_raw = []\n",
    "    for x in soup.find_all('div', class_='css-175oi2r r-1iusvr4 r-16y2uox r-1777fci r-kzbkwu'):\n",
    "        if x.find('div', class_='css-175oi2r r-1awozwy r-18u37iz r-1cmwbt1 r-1wtj0ep').text == 'Ad':\n",
    "            continue\n",
    "        else:\n",
    "            comments_raw.append(x)\n",
    "    \n",
    "    comments = []\n",
    "    \n",
    "    for comment in comments_raw:\n",
    "        \n",
    "        comment_data = {}\n",
    "        \n",
    "        display_element = comment.find('span', class_='css-1qaijid r-dnmrzs r-1udh08x r-3s2u2q r-bcqeeo r-qvutc0 r-poiln3')\n",
    "        if display_element:\n",
    "            comment_data['Display Name'] = display_element.text\n",
    "        else:\n",
    "            'N/A'\n",
    "            \n",
    "        user_element = comment.find('div', class_='css-1rynq56 r-dnmrzs r-1udh08x r-3s2u2q r-bcqeeo r-qvutc0 r-37j5jr r-a023e6 r-rjixqe r-16dba41 r-18u37iz r-1wvb978')\n",
    "        if user_element:\n",
    "            comment_data['Username'] = user_element.text\n",
    "        else:\n",
    "            'N/A'\n",
    "            \n",
    "        url_element = comment.find('a', class_='css-1rynq56 r-bcqeeo r-qvutc0 r-37j5jr r-a023e6 r-rjixqe r-16dba41 r-xoduu5 r-1q142lx r-1w6e6rj r-9aw3ui r-3s2u2q r-1loqt21')\n",
    "        if url_element:\n",
    "            comment_data['URL'] = 'https://www.twitter.com' + url_element['href']\n",
    "        else:\n",
    "            'N/A'\n",
    "            \n",
    "        time_element = comment.find('time')\n",
    "        if time_element:\n",
    "            comment_data['Timestamp'] = time_element.text\n",
    "        else:\n",
    "            'N/A'\n",
    "            \n",
    "        text_element = comment.find('div', class_='css-1rynq56 r-8akbws r-krxsd3 r-dnmrzs r-1udh08x r-bcqeeo r-qvutc0 r-37j5jr r-a023e6 r-rjixqe r-16dba41 r-bnwqim')\n",
    "        if text_element:\n",
    "            comment_data['Text'] = text_element.text\n",
    "        else:\n",
    "            'N/A'\n",
    "            \n",
    "        like_element = comment.find(attrs={'data-testid': 'like'})\n",
    "        if like_element:\n",
    "            comment_data['No. of Likes'] = like_element.text\n",
    "        else:\n",
    "            'N/A'\n",
    "            \n",
    "        retweet_element = comment.find(attrs={'data-testid': 'retweet'})\n",
    "        if retweet_element:\n",
    "            comment_data['No. of Retweets'] = retweet_element.text\n",
    "        else:\n",
    "            'N/A'\n",
    "            \n",
    "        comments.append(comment_data)\n",
    "        \n",
    "    df = pd.DataFrame(comments)\n",
    "    \n",
    "    return df"
   ]
  },
  {
   "cell_type": "code",
   "execution_count": null,
   "metadata": {},
   "outputs": [],
   "source": [
    "df_temp = scrape_comments(page_content)"
   ]
  },
  {
   "cell_type": "code",
   "execution_count": null,
   "metadata": {},
   "outputs": [],
   "source": [
    "df = pd.concat([df, df_temp], ignore_index=True)"
   ]
  },
  {
   "cell_type": "code",
   "execution_count": null,
   "metadata": {},
   "outputs": [],
   "source": [
    "out_path = 'C:\\\\Users\\\\BINARY COMPUTERS\\\\Documents\\\\Twitter.xlsx'\n",
    "writer = pd.ExcelWriter(out_path, engine='xlsxwriter')\n",
    "df.to_excel(writer, sheet_name='Sheet1')\n",
    "writer.save()"
   ]
  },
  {
   "cell_type": "code",
   "execution_count": null,
   "metadata": {},
   "outputs": [],
   "source": [
    "# Clean up\n",
    "driver.quit()"
   ]
  }
 ],
 "metadata": {
  "kernelspec": {
   "display_name": "Python 3",
   "language": "python",
   "name": "python3"
  },
  "language_info": {
   "codemirror_mode": {
    "name": "ipython",
    "version": 3
   },
   "file_extension": ".py",
   "mimetype": "text/x-python",
   "name": "python",
   "nbconvert_exporter": "python",
   "pygments_lexer": "ipython3",
   "version": "3.8.5"
  }
 },
 "nbformat": 4,
 "nbformat_minor": 4
}
